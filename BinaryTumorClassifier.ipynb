{
 "cells": [
  {
   "cell_type": "markdown",
   "id": "06c3e7df",
   "metadata": {},
   "source": [
    "# Tumor Classification Assignment Part 1"
   ]
  },
  {
   "cell_type": "code",
   "execution_count": 9,
   "id": "61b07eef",
   "metadata": {},
   "outputs": [],
   "source": [
    "import pandas as pd\n",
    "from imageio import imread\n",
    "import numpy as np\n",
    "import matplotlib.pyplot as plt\n",
    "import seaborn as sns\n",
    "sns.set_style('white')\n",
    "from matplotlib.colors import ListedColormap\n",
    "from sklearn.decomposition import PCA\n",
    "from sklearn.metrics import confusion_matrix, classification_report,accuracy_score"
   ]
  },
  {
   "cell_type": "markdown",
   "id": "b67c6eae",
   "metadata": {},
   "source": [
    "## Data extraction\n",
    "\n",
    "1. Map images into vectors\n",
    "    - convert to grey scale 2d vector\n",
    "    - reduce dimensionality\n",
    "    - store result to avoid repeating\n",
    "2. Map labels to 1 for tumor, 0 for no_tumor\n",
    "3. Create xTrain, yTrain, xTest, yTest from training data (test again once we have new test data)"
   ]
  },
  {
   "cell_type": "code",
   "execution_count": 39,
   "id": "07a68702",
   "metadata": {},
   "outputs": [
    {
     "name": "stdout",
     "output_type": "stream",
     "text": [
      "[[1 1 1]\n",
      " [2 2 2]\n",
      " [3 3 3]\n",
      " ...\n",
      " [2 2 2]\n",
      " [2 2 2]\n",
      " [2 2 2]]\n",
      "(786432,)\n"
     ]
    }
   ],
   "source": [
    "def rgb2gray(rgb):\n",
    "    return np.dot(rgb[...,:3], [0.2989, 0.5870, 0.1140])\n",
    "\n",
    "df = pd.read_csv('./dataset/label.csv')\n",
    "\n",
    "X = pd.DataFrame()\n",
    "Y = (df['label'] != 'no_tumor').astype(int)\n",
    "\n",
    "img = imread('./dataset/image/image_0000.jpg')\n",
    "# plt.imshow(img)\n",
    "\n",
    "img_gray = rgb2gray(img)\n",
    "\n",
    "# features = np.reshape(img_gray, (512*512))\n",
    "# print(features.shape)\n",
    "\n",
    "\n",
    "# print(img_gray.shape)\n",
    "# img_transformed = pca.transform(img_gray) \n",
    "# print(img_transformed.shape)\n",
    "# img_transformed_features = np.reshape(img_transformed, (512*32))\n",
    "# print(img_transformed_features.shape)\n",
    "# print(np.sum(pca.explained_variance_ratio_) )\n",
    "\n",
    "# Retrieving the results of the image after Dimension reduction.\n",
    "# temp = pca.inverse_transform(img_transformed) \n",
    "# print(temp.shape)\n",
    "# temp = np.reshape(temp, (512,512)) \n",
    "# print(temp.shape) \n",
    "# plt.imshow(temp)\n",
    "\n",
    "for index, row in df.iterrows():\n",
    "    img = imread('./dataset/image/' + row['file_name'])\n",
    "    img_gray = rgb2gray(img)\n",
    "    pca = PCA(32).fit(img_gray) \n",
    "    img_transformed = pca.transform(img_gray) \n",
    "    features = np.reshape(img_transformed, (512*32))\n",
    "    X = X.append(pd.Series(features).T, ignore_index=True)\n",
    "    print(\"\\rCompleted {:.2f}\".format((index/df.shape[0]) * 100), end=\"\")\n",
    "\n",
    "print(X.shape)"
   ]
  },
  {
   "cell_type": "code",
   "execution_count": 4,
   "id": "26e19c79",
   "metadata": {},
   "outputs": [],
   "source": [
    "# X = pd.read_csv('./dataset/ImageFeatures.csv')"
   ]
  },
  {
   "cell_type": "markdown",
   "id": "d3f56579",
   "metadata": {},
   "source": [
    "### Logistic Regression"
   ]
  },
  {
   "cell_type": "code",
   "execution_count": 10,
   "id": "d44d01f6",
   "metadata": {},
   "outputs": [],
   "source": [
    "from sklearn.model_selection import train_test_split\n",
    "from sklearn.linear_model import LogisticRegression"
   ]
  },
  {
   "cell_type": "code",
   "execution_count": 6,
   "id": "96bf3dc7",
   "metadata": {},
   "outputs": [
    {
     "name": "stdout",
     "output_type": "stream",
     "text": [
      "Accuracy on test set: 0.86\n",
      "[[ 82  41]\n",
      " [ 65 562]]\n",
      "Accuracy on test set: 0.8586666666666667\n",
      "              precision    recall  f1-score   support\n",
      "\n",
      "           0       0.56      0.67      0.61       123\n",
      "           1       0.93      0.90      0.91       627\n",
      "\n",
      "    accuracy                           0.86       750\n",
      "   macro avg       0.74      0.78      0.76       750\n",
      "weighted avg       0.87      0.86      0.86       750\n",
      "\n"
     ]
    },
    {
     "name": "stderr",
     "output_type": "stream",
     "text": [
      "/Users/jossmt/anaconda2/envs/MachineLearningUcl/lib/python3.8/site-packages/sklearn/linear_model/_logistic.py:763: ConvergenceWarning: lbfgs failed to converge (status=1):\n",
      "STOP: TOTAL NO. of ITERATIONS REACHED LIMIT.\n",
      "\n",
      "Increase the number of iterations (max_iter) or scale the data as shown in:\n",
      "    https://scikit-learn.org/stable/modules/preprocessing.html\n",
      "Please also refer to the documentation for alternative solver options:\n",
      "    https://scikit-learn.org/stable/modules/linear_model.html#logistic-regression\n",
      "  n_iter_i = _check_optimize_result(\n"
     ]
    }
   ],
   "source": [
    "# x_train, x_test, y_train, y_test = train_test_split(X, Y,random_state=0)\n",
    "def logRegrPredict(x_train, y_train,xtest ):\n",
    "    # Build Logistic Regression Model\n",
    "    logreg = LogisticRegression(solver='lbfgs')\n",
    "    # Train the model using the training sets\n",
    "    logreg.fit(x_train, y_train)\n",
    "    y_pred= logreg.predict(xtest)\n",
    "    print('Accuracy on test set: {:.2f}'.format(logreg.score(x_test, y_test)))\n",
    "    return y_pred\n",
    "\n",
    "x_train, x_test, y_train, y_test = train_test_split(X, Y,random_state=0)\n",
    "y_pred = logRegrPredict(x_train, y_train,x_test)\n",
    "\n",
    "print(confusion_matrix(y_test, y_pred))\n",
    "print('Accuracy on test set: '+str(accuracy_score(y_test,y_pred)))\n",
    "print(classification_report(y_test,y_pred))"
   ]
  },
  {
   "cell_type": "code",
   "execution_count": 7,
   "id": "80bff602",
   "metadata": {},
   "outputs": [
    {
     "name": "stdout",
     "output_type": "stream",
     "text": [
      "Accuracy on test set: 0.868\n",
      "              precision    recall  f1-score   support\n",
      "\n",
      "           0       0.60      0.58      0.59       123\n",
      "           1       0.92      0.93      0.92       627\n",
      "\n",
      "    accuracy                           0.87       750\n",
      "   macro avg       0.76      0.75      0.76       750\n",
      "weighted avg       0.87      0.87      0.87       750\n",
      "\n"
     ]
    }
   ],
   "source": [
    "from sklearn import tree\n",
    "\n",
    "tree_params={\n",
    "    'criterion':'entropy'\n",
    "}\n",
    "clf = tree.DecisionTreeClassifier( **tree_params )\n",
    "\n",
    "clf.fit(x_train,y_train)\n",
    "\n",
    "y_pred =  clf.predict(x_test)\n",
    "print('Accuracy on test set: '+str(accuracy_score(y_test,y_pred)))\n",
    "print(classification_report(y_test,y_pred))"
   ]
  },
  {
   "cell_type": "code",
   "execution_count": 12,
   "id": "e9dbd61e",
   "metadata": {},
   "outputs": [],
   "source": [
    "from sklearn.ensemble import AdaBoostClassifier\n",
    "\n",
    "clf = AdaBoostClassifier(n_estimators=50, random_state=0, learning_rate=0.7)\n",
    "clf.fit(x_train, y_train)\n",
    "adaBoostY = clf.predict(x_test)\n",
    "\n",
    "print('Accuracy on test set: '+str(accuracy_score(y_test,adaBoostY)))\n",
    "print(classification_report(y_test,y_pred))"
   ]
  },
  {
   "cell_type": "code",
   "execution_count": null,
   "id": "bc72380f",
   "metadata": {},
   "outputs": [],
   "source": [
    "print(clf.estimator_errors_)"
   ]
  },
  {
   "cell_type": "markdown",
   "id": "7229edc5",
   "metadata": {},
   "source": [
    "Apply ensemble but train weak classifiers on equal split of class 0 and 1\n",
    "https://machinelearningmastery.com/cross-validation-for-imbalanced-classification/\n",
    "Test Smote\n",
    "https://machinelearningmastery.com/smote-oversampling-for-imbalanced-classification/"
   ]
  },
  {
   "cell_type": "code",
   "execution_count": 7,
   "id": "1d60b691",
   "metadata": {},
   "outputs": [
    {
     "name": "stdout",
     "output_type": "stream",
     "text": [
      "Counter({1: 2546, 0: 454})\n",
      "Counter({1: 2546, 0: 2546})\n"
     ]
    }
   ],
   "source": [
    "from imblearn.over_sampling import SMOTE\n",
    "from collections import Counter\n",
    "oversample = SMOTE()\n",
    "\n",
    "print(Counter(Y))\n",
    "\n",
    "X, Y = oversample.fit_resample(X, Y)\n",
    "print(Counter(Y))"
   ]
  },
  {
   "cell_type": "code",
   "execution_count": 16,
   "id": "00e84651",
   "metadata": {},
   "outputs": [],
   "source": [
    "x_train, x_test, y_train, y_test = train_test_split(X, Y,random_state=0)\n",
    "\n",
    "clf = AdaBoostClassifier(n_estimators=20, random_state=0, learning_rate=1.0)\n",
    "clf.fit(x_train, y_train)\n",
    "adaBoostY = clf.predict(x_test)"
   ]
  },
  {
   "cell_type": "code",
   "execution_count": 15,
   "id": "044c24b6",
   "metadata": {},
   "outputs": [
    {
     "name": "stdout",
     "output_type": "stream",
     "text": [
      "Accuracy on test set: 0.7965435978004713\n",
      "              precision    recall  f1-score   support\n",
      "\n",
      "           0       0.79      0.80      0.80       628\n",
      "           1       0.80      0.79      0.80       645\n",
      "\n",
      "    accuracy                           0.80      1273\n",
      "   macro avg       0.80      0.80      0.80      1273\n",
      "weighted avg       0.80      0.80      0.80      1273\n",
      "\n"
     ]
    }
   ],
   "source": [
    "print('Accuracy on test set: '+str(accuracy_score(y_test,adaBoostY)))\n",
    "print(classification_report(y_test,adaBoostY))"
   ]
  },
  {
   "cell_type": "code",
   "execution_count": 18,
   "id": "087d4243",
   "metadata": {},
   "outputs": [
    {
     "name": "stdout",
     "output_type": "stream",
     "text": [
      "Accuracy on test set: 0.866980885048442\n",
      "              precision    recall  f1-score   support\n",
      "\n",
      "           0       0.86      0.88      0.87      1918\n",
      "           1       0.88      0.85      0.86      1901\n",
      "\n",
      "    accuracy                           0.87      3819\n",
      "   macro avg       0.87      0.87      0.87      3819\n",
      "weighted avg       0.87      0.87      0.87      3819\n",
      "\n"
     ]
    }
   ],
   "source": [
    "adaBoostYtrain = clf.predict(x_train)\n",
    "print('Accuracy on test set: '+str(accuracy_score(y_train,adaBoostYtrain)))\n",
    "print(classification_report(y_train,adaBoostYtrain))"
   ]
  },
  {
   "cell_type": "code",
   "execution_count": null,
   "id": "ee510c58",
   "metadata": {},
   "outputs": [],
   "source": []
  }
 ],
 "metadata": {
  "kernelspec": {
   "display_name": "Python 3 (ipykernel)",
   "language": "python",
   "name": "python3"
  },
  "language_info": {
   "codemirror_mode": {
    "name": "ipython",
    "version": 3
   },
   "file_extension": ".py",
   "mimetype": "text/x-python",
   "name": "python",
   "nbconvert_exporter": "python",
   "pygments_lexer": "ipython3",
   "version": "3.8.11"
  }
 },
 "nbformat": 4,
 "nbformat_minor": 5
}
